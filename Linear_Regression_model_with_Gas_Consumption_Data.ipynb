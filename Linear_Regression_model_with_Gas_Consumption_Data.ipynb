{
 "cells": [
  {
   "cell_type": "markdown",
   "metadata": {},
   "source": [
    "# Linear Regression model with Gas Consumption Data\n",
    "\n",
    "- we make linear regression model with Busan city's gas consumption and average tempurature from 2009-01 to 2018-05.\n",
    "- we will predict Busan city's gas consumption from 2018_06 to 2019-05 by linear regression model."
   ]
  },
  {
   "cell_type": "markdown",
   "metadata": {},
   "source": [
    "### 1) import packages"
   ]
  },
  {
   "cell_type": "code",
   "execution_count": 6,
   "metadata": {},
   "outputs": [],
   "source": [
    "import numpy as np\n",
    "import pandas as pd\n",
    "import matplotlib.pyplot as plt\n",
    "from sklearn.linear_model import LinearRegression\n",
    "from sklearn.metrics import mean_squared_error\n",
    "from sklearn import linear_model"
   ]
  },
  {
   "cell_type": "markdown",
   "metadata": {},
   "source": [
    "### 2) load datasets\n",
    "- y_train : BUSAN_gas_consumption from 2009-01 to 2018-05 (113 months)\n",
    "- y_test : BUSAN_gas_consumption from 2017_06 to 2018-05 (12 months)\n",
    "- https://icim.nims.re.kr/platform/question/16#summary\n",
    "- temp_orig : BUSAN_average_tempurature from 2009-01 to 2018_12\n",
    "- https://data.kma.go.kr/stcs/grnd/grndTaList.do?pgmNo=70"
   ]
  },
  {
   "cell_type": "code",
   "execution_count": 46,
   "metadata": {},
   "outputs": [],
   "source": [
    "train = pd.read_csv(\"test.csv\", encoding=\"utf-8\", index_col=0)\n",
    "temp_orig = pd.read_csv(\"ta_20200329144537.csv\", encoding = \"cp949\" , skiprows =7, usecols = ['평균기온(℃)'])\n",
    "\n",
    "y_train = train.values[:,:]\n",
    "y_test = train.values[:,-12:]"
   ]
  },
  {
   "cell_type": "markdown",
   "metadata": {},
   "source": [
    "### 3) Explore datasets"
   ]
  },
  {
   "cell_type": "code",
   "execution_count": 44,
   "metadata": {},
   "outputs": [
    {
     "data": {
      "text/html": [
       "<div>\n",
       "<style scoped>\n",
       "    .dataframe tbody tr th:only-of-type {\n",
       "        vertical-align: middle;\n",
       "    }\n",
       "\n",
       "    .dataframe tbody tr th {\n",
       "        vertical-align: top;\n",
       "    }\n",
       "\n",
       "    .dataframe thead th {\n",
       "        text-align: right;\n",
       "    }\n",
       "</style>\n",
       "<table border=\"1\" class=\"dataframe\">\n",
       "  <thead>\n",
       "    <tr style=\"text-align: right;\">\n",
       "      <th></th>\n",
       "      <th>평균기온(℃)</th>\n",
       "    </tr>\n",
       "  </thead>\n",
       "  <tbody>\n",
       "    <tr>\n",
       "      <th>0</th>\n",
       "      <td>3.5</td>\n",
       "    </tr>\n",
       "    <tr>\n",
       "      <th>1</th>\n",
       "      <td>8.3</td>\n",
       "    </tr>\n",
       "    <tr>\n",
       "      <th>2</th>\n",
       "      <td>9.8</td>\n",
       "    </tr>\n",
       "    <tr>\n",
       "      <th>3</th>\n",
       "      <td>14.3</td>\n",
       "    </tr>\n",
       "    <tr>\n",
       "      <th>4</th>\n",
       "      <td>18.6</td>\n",
       "    </tr>\n",
       "  </tbody>\n",
       "</table>\n",
       "</div>"
      ],
      "text/plain": [
       "   평균기온(℃)\n",
       "0      3.5\n",
       "1      8.3\n",
       "2      9.8\n",
       "3     14.3\n",
       "4     18.6"
      ]
     },
     "execution_count": 44,
     "metadata": {},
     "output_type": "execute_result"
    }
   ],
   "source": [
    "temp_train_orig.head()"
   ]
  },
  {
   "cell_type": "code",
   "execution_count": 49,
   "metadata": {},
   "outputs": [],
   "source": [
    "# temp_train : indexing tempurature from 2009-01 to 2018-05 (113 months)\n",
    "# temp_test : indexing tempurature from 2017_06 to 2018-05 (12 months)\n",
    "\n",
    "temp_train = temp_train_orig.values[:-7,:].T\n",
    "temp_test = temp_train_orig.values[-31:-19,:].T"
   ]
  },
  {
   "cell_type": "code",
   "execution_count": 50,
   "metadata": {
    "scrolled": true
   },
   "outputs": [
    {
     "name": "stdout",
     "output_type": "stream",
     "text": [
      "Shape of y_train : (10000, 113)\n",
      "Shape of y_train : (10000, 12)\n",
      "Shape of temp_train : (1, 113)\n",
      "Shape of temp_test : (1, 12)\n",
      "Type of y_train : <class 'numpy.ndarray'>\n",
      "Type of temp_train : <class 'numpy.ndarray'>\n",
      "Type of temp_test : <class 'numpy.ndarray'>\n"
     ]
    }
   ],
   "source": [
    "# explore datasets\n",
    "print(\"Shape of y_train :\" ,y_train.shape)\n",
    "print(\"Shape of y_train :\" ,y_test.shape)\n",
    "print(\"Shape of temp_train :\", temp_train.shape)\n",
    "print(\"Shape of temp_test :\", temp_test.shape)\n",
    "print(\"Type of y_train :\" , type(y_train))\n",
    "print(\"Type of temp_train :\" , type(temp_train))\n",
    "print(\"Type of temp_test :\" , type(temp_test))"
   ]
  },
  {
   "cell_type": "markdown",
   "metadata": {},
   "source": [
    "### 4) Linear Regression Model"
   ]
  },
  {
   "cell_type": "code",
   "execution_count": 51,
   "metadata": {},
   "outputs": [],
   "source": [
    "model = LinearRegression(fit_intercept=True)\n",
    "model = model.fit(temp_train.T, y_train.T)"
   ]
  },
  {
   "cell_type": "markdown",
   "metadata": {},
   "source": [
    "### 5) Result"
   ]
  },
  {
   "cell_type": "code",
   "execution_count": 52,
   "metadata": {
    "scrolled": true
   },
   "outputs": [
    {
     "name": "stdout",
     "output_type": "stream",
     "text": [
      "W = [[-3.06201993]\n",
      " [-2.32832629]\n",
      " [-3.08658326]\n",
      " ...\n",
      " [-3.03092111]\n",
      " [-1.11216643]\n",
      " [-5.91888552]]\n",
      "b = [[ 84.66048907]\n",
      " [ 74.10395583]\n",
      " [ 83.46083752]\n",
      " ...\n",
      " [ 75.99082708]\n",
      " [ 33.03855055]\n",
      " [149.90076898]]\n",
      "\n",
      "Shape of W : (10000, 1)\n",
      "Shape of b : (10000, 1)\n"
     ]
    }
   ],
   "source": [
    "# explore W & b\n",
    "W = model.coef_\n",
    "b = model.intercept_\n",
    "b = b.reshape(10000,1)\n",
    "\n",
    "print(\"W =\", W)\n",
    "print(\"b =\", b)\n",
    "print()\n",
    "print(\"Shape of W :\", W.shape)\n",
    "print(\"Shape of b :\", b.shape)"
   ]
  },
  {
   "cell_type": "markdown",
   "metadata": {},
   "source": [
    "### 6) Visualization of an id"
   ]
  },
  {
   "cell_type": "code",
   "execution_count": 53,
   "metadata": {},
   "outputs": [],
   "source": [
    "def plot(W,b,temp,y,n) : \n",
    "    # propagation\n",
    "    Z = np.dot(W,temp) + b\n",
    "    \n",
    "    nth_temp = temp[0]\n",
    "    \n",
    "    # indexing n_th data\n",
    "    nth_Z = Z[n-1]\n",
    "    nth_y = y[n-1]\n",
    "    \n",
    "    # visualization\n",
    "    plt.plot(nth_temp, nth_Z, color = \"red\")\n",
    "    plt.scatter(nth_temp, nth_y, color = \"blue\")\n",
    "#     plt.plot(nth_temp, nth_y,'o', color = \"blue\") # same as above\n",
    "    plt.title(\"id = {0} (num={1})\".format(78586 + n, n))\n",
    "    plt.xlabel(\"Average temperature per month\")\n",
    "    plt.ylabel(\"Gas consumption\")\n",
    "    plt.show()"
   ]
  },
  {
   "cell_type": "code",
   "execution_count": 54,
   "metadata": {
    "scrolled": false
   },
   "outputs": [
    {
     "data": {
      "image/png": "[encoded data removed]",
      "text/plain": [
       "<Figure size 432x288 with 1 Axes>"
      ]
     },
     "metadata": {
      "needs_background": "light"
     },
     "output_type": "display_data"
    }
   ],
   "source": [
    "plot(W, b, temp_train, y_train, n = 5000)  # you can change \"n\""
   ]
  },
  {
   "cell_type": "markdown",
   "metadata": {},
   "source": [
    "- 'Average temperature' and 'Gas consumption' seem proportional to each other."
   ]
  },
  {
   "cell_type": "markdown",
   "metadata": {},
   "source": [
    "### 7) Predict & Check RMSE"
   ]
  },
  {
   "cell_type": "code",
   "execution_count": 57,
   "metadata": {},
   "outputs": [],
   "source": [
    "Y_hat = np.dot(W,temp_test) + b"
   ]
  },
  {
   "cell_type": "code",
   "execution_count": 58,
   "metadata": {},
   "outputs": [
    {
     "name": "stdout",
     "output_type": "stream",
     "text": [
      "RMSE : 28.551740357799776\n"
     ]
    }
   ],
   "source": [
    "RMSE = mean_squared_error(y_test, Y_hat) ** 0.5\n",
    "print(\"RMSE :\" , RMSE)"
   ]
  }
 ],
 "metadata": {
  "kernelspec": {
   "display_name": "Python 3",
   "language": "python",
   "name": "python3"
  },
  "language_info": {
   "codemirror_mode": {
    "name": "ipython",
    "version": 3
   },
   "file_extension": ".py",
   "mimetype": "text/x-python",
   "name": "python",
   "nbconvert_exporter": "python",
   "pygments_lexer": "ipython3",
   "version": "3.7.6"
  }
 },
 "nbformat": 4,
 "nbformat_minor": 4
}
