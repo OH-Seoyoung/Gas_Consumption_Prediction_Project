{
 "cells": [
  {
   "cell_type": "markdown",
   "metadata": {},
   "source": [
    "# Linear Regression model with Gas Consumption Data\n",
    "## Optimizer : Gradient Descent\n",
    "- we make linear regression model with Busan city's gas consumption and average tempurature from 2009-01 to 2018-05.\n",
    "- we will predict Busan city's gas consumption from 2018_06 to 2019-05 by linear regression model."
   ]
  },
  {
   "cell_type": "markdown",
   "metadata": {},
   "source": [
    "### 1) import packages"
   ]
  },
  {
   "cell_type": "code",
   "execution_count": 3,
   "metadata": {},
   "outputs": [],
   "source": [
    "import numpy as np\n",
    "import pandas as pd\n",
    "import matplotlib.pyplot as plt\n",
    "from sklearn.metrics import mean_squared_error"
   ]
  },
  {
   "cell_type": "markdown",
   "metadata": {},
   "source": [
    "### 2) load datasets\n",
    "- y_train : BUSAN_gas_consumption from 2009-01 to 2018-05 (113 months)\n",
    "- y_test : BUSAN_gas_consumption from 2017_06 to 2018-05 (12 months)\n",
    "- https://icim.nims.re.kr/platform/question/16#summary\n",
    "- temp_orig : BUSAN_average_tempurature from 2009-01 to 2018_12\n",
    "- https://data.kma.go.kr/stcs/grnd/grndTaList.do?pgmNo=70"
   ]
  },
  {
   "cell_type": "code",
   "execution_count": 4,
   "metadata": {},
   "outputs": [],
   "source": [
    "train = pd.read_csv(\"test.csv\", encoding=\"utf-8\", index_col=0)\n",
    "temp_orig = pd.read_csv(\"ta_20200329144537.csv\", encoding = \"cp949\" , skiprows =7, usecols = ['평균기온(℃)'])\n",
    "\n",
    "y_train = train.values[:,:]\n",
    "y_test = train.values[:,-12:]"
   ]
  },
  {
   "cell_type": "markdown",
   "metadata": {},
   "source": [
    "### 3) Explore datasets"
   ]
  },
  {
   "cell_type": "code",
   "execution_count": 6,
   "metadata": {},
   "outputs": [],
   "source": [
    "# temp_train : indexing tempurature from 2009-01 to 2018-05 (113 months)\n",
    "# temp_test : indexing tempurature from 2017_06 to 2018-05 (12 months)\n",
    "8\n",
    "temp_train = temp_orig.values[:-7,:].T\n",
    "temp_test = temp_orig.values[-31:-19,:].T"
   ]
  },
  {
   "cell_type": "code",
   "execution_count": 7,
   "metadata": {
    "scrolled": true
   },
   "outputs": [
    {
     "name": "stdout",
     "output_type": "stream",
     "text": [
      "Shape of y_train : (10000, 113)\n",
      "Shape of y_train : (10000, 12)\n",
      "Shape of temp_train : (1, 113)\n",
      "Shape of temp_test : (1, 12)\n",
      "Type of y_train : <class 'numpy.ndarray'>\n",
      "Type of temp_train : <class 'numpy.ndarray'>\n",
      "Type of temp_test : <class 'numpy.ndarray'>\n"
     ]
    }
   ],
   "source": [
    "# explore datasets\n",
    "print(\"Shape of y_train :\" ,y_train.shape)\n",
    "print(\"Shape of y_train :\" ,y_test.shape)\n",
    "print(\"Shape of temp_train :\", temp_train.shape)\n",
    "print(\"Shape of temp_test :\", temp_test.shape)\n",
    "print(\"Type of y_train :\" , type(y_train))\n",
    "print(\"Type of temp_train :\" , type(temp_train))\n",
    "print(\"Type of temp_test :\" , type(temp_test))"
   ]
  },
  {
   "cell_type": "code",
   "execution_count": 8,
   "metadata": {},
   "outputs": [],
   "source": [
    "W = np.random.randn(10000,1)*0.01\n",
    "b = np.zeros((10000,1))"
   ]
  },
  {
   "cell_type": "code",
   "execution_count": 9,
   "metadata": {},
   "outputs": [],
   "source": [
    "def propagate(W, b, X, Y):\n",
    "\n",
    "    m = (Y.shape[0]) * (Y.shape[1])\n",
    "\n",
    "    Z = np.dot(W, X)+ b\n",
    "    \n",
    "    cost = mean_squared_error(Y, Z) ** 0.5\n",
    "    \n",
    "    # Backward propagation\n",
    "    dW = (1/m) * (np.dot(X,(Z-Y).T)).T\n",
    "    db = (1/m) * (np.sum(Z-Y))\n",
    "    \n",
    "    grads = {\"dW\": dW,\n",
    "             \"db\": db}\n",
    "    \n",
    "    return grads, cost"
   ]
  },
  {
   "cell_type": "code",
   "execution_count": 15,
   "metadata": {},
   "outputs": [],
   "source": [
    "def optimize(W, b, X, Y, num_iterations, learning_rate, print_cost = False):\n",
    "    \"\"\"\n",
    "    Optimizes W and b by running a Gradient descent\n",
    "    Input : \n",
    "        num_iterations : number of iterations of the optimization loop\n",
    "        learning_rate -- learning rate of the gradient descent\n",
    "        print_cost -- True to print the loss every 50 steps\n",
    "   Returns:\n",
    "       params -- dictionary containing the weights W and bias b\n",
    "       grads -- dictionary containing the gradients of the weights and bias with respect to the cost function\n",
    "       costs -- list of all the costs computed during the optimization -> used to plot\n",
    "    \"\"\"\n",
    "    costs = []\n",
    "    \n",
    "    for i in range(num_iterations):\n",
    "\n",
    "        grads, cost = propagate(W,b,X,Y)\n",
    "\n",
    "        dW = grads[\"dW\"]\n",
    "        db = grads[\"db\"]\n",
    "        \n",
    "        W = W - (learning_rate) * dW\n",
    "        b = b - (learning_rate) * db\n",
    "\n",
    "        # Record the costs for plotting\n",
    "        if i % 30 == 0:\n",
    "            costs.append(cost)\n",
    "            \n",
    "        # Print the cost every 100 training iterations\n",
    "        if print_cost and i % 30 == 0:\n",
    "            print (\"Cost after iteration %i: %f\" %(i, cost))\n",
    "            \n",
    "    # plot the cost\n",
    "    plt.plot(costs)\n",
    "    plt.ylabel('cost')\n",
    "    plt.xlabel('iterations (per 100)')\n",
    "    plt.title(\"Learning rate =\" + str(learning_rate))\n",
    "    plt.show()\n",
    "    \n",
    "    # Lets save the trainded parameters in a variable\n",
    "    params = {\"W\": W,\n",
    "              \"b\": b}    \n",
    "    grads = {\"dW\": dW,\n",
    "             \"db\": db}\n",
    "    \n",
    "    return params, grads, costs"
   ]
  },
  {
   "cell_type": "code",
   "execution_count": 16,
   "metadata": {
    "scrolled": true
   },
   "outputs": [
    {
     "name": "stdout",
     "output_type": "stream",
     "text": [
      "Cost after iteration 0: 53.646827\n",
      "Cost after iteration 30: 34.466759\n",
      "Cost after iteration 60: 31.701525\n",
      "Cost after iteration 90: 30.545797\n",
      "Cost after iteration 120: 29.966833\n",
      "Cost after iteration 150: 29.676730\n",
      "Cost after iteration 180: 29.532286\n",
      "Cost after iteration 210: 29.460626\n",
      "Cost after iteration 240: 29.425139\n",
      "Cost after iteration 270: 29.407582\n"
     ]
    },
    {
     "data": {
      "image/png": "[encoded data removed]",
      "text/plain": [
       "<Figure size 432x288 with 1 Axes>"
      ]
     },
     "metadata": {
      "needs_background": "light"
     },
     "output_type": "display_data"
    }
   ],
   "source": [
    "params, grads, costs = optimize(W, b, temp_train, y_train, num_iterations= 300, learning_rate = 1.9, print_cost = True)"
   ]
  },
  {
   "cell_type": "code",
   "execution_count": 17,
   "metadata": {},
   "outputs": [],
   "source": [
    "W1 = params[\"W\"]\n",
    "b1 = params[\"b\"]"
   ]
  },
  {
   "cell_type": "code",
   "execution_count": 18,
   "metadata": {},
   "outputs": [],
   "source": [
    "Y_hat = np.dot(W1,temp_train) + b1"
   ]
  },
  {
   "cell_type": "code",
   "execution_count": 19,
   "metadata": {},
   "outputs": [
    {
     "name": "stdout",
     "output_type": "stream",
     "text": [
      "RMSE : 29.398900000942618\n"
     ]
    }
   ],
   "source": [
    "RMSE = mean_squared_error(y_train, Y_hat) ** 0.5\n",
    "print(\"RMSE :\" , RMSE)"
   ]
  },
  {
   "cell_type": "code",
   "execution_count": null,
   "metadata": {},
   "outputs": [],
   "source": []
  }
 ],
 "metadata": {
  "kernelspec": {
   "display_name": "Python 3",
   "language": "python",
   "name": "python3"
  },
  "language_info": {
   "codemirror_mode": {
    "name": "ipython",
    "version": 3
   },
   "file_extension": ".py",
   "mimetype": "text/x-python",
   "name": "python",
   "nbconvert_exporter": "python",
   "pygments_lexer": "ipython3",
   "version": "3.7.6"
  }
 },
 "nbformat": 4,
 "nbformat_minor": 4
}
